{
  "nbformat": 4,
  "nbformat_minor": 0,
  "metadata": {
    "colab": {
      "name": "causalml-model-save.ipynb",
      "provenance": [],
      "include_colab_link": true
    },
    "kernelspec": {
      "name": "python3",
      "display_name": "Python 3"
    },
    "language_info": {
      "name": "python"
    }
  },
  "cells": [
    {
      "cell_type": "markdown",
      "metadata": {
        "id": "view-in-github",
        "colab_type": "text"
      },
      "source": [
        "<a href=\"https://colab.research.google.com/github/helenykwang/helloworld/blob/master/causalml_model_save.ipynb\" target=\"_parent\"><img src=\"https://colab.research.google.com/assets/colab-badge.svg\" alt=\"Open In Colab\"/></a>"
      ]
    },
    {
      "cell_type": "code",
      "metadata": {
        "colab": {
          "base_uri": "https://localhost:8080/",
          "height": 1000
        },
        "collapsed": true,
        "id": "G6Y5n4RZnCV8",
        "outputId": "1eb96238-7611-4297-fbac-75927887f285"
      },
      "source": [
        "!pip install causalml"
      ],
      "execution_count": null,
      "outputs": [
        {
          "output_type": "stream",
          "text": [
            "Collecting causalml\n",
            "\u001b[?25l  Downloading https://files.pythonhosted.org/packages/44/ec/594b32198001b5babf79525958a4134dcbb44418b6296007aebe47024046/causalml-0.10.0.tar.gz (235kB)\n",
            "\r\u001b[K     |█▍                              | 10kB 11.1MB/s eta 0:00:01\r\u001b[K     |██▉                             | 20kB 17.3MB/s eta 0:00:01\r\u001b[K     |████▏                           | 30kB 17.8MB/s eta 0:00:01\r\u001b[K     |█████▋                          | 40kB 20.7MB/s eta 0:00:01\r\u001b[K     |███████                         | 51kB 23.4MB/s eta 0:00:01\r\u001b[K     |████████▍                       | 61kB 11.2MB/s eta 0:00:01\r\u001b[K     |█████████▊                      | 71kB 12.3MB/s eta 0:00:01\r\u001b[K     |███████████▏                    | 81kB 13.4MB/s eta 0:00:01\r\u001b[K     |████████████▌                   | 92kB 14.6MB/s eta 0:00:01\r\u001b[K     |██████████████                  | 102kB 15.7MB/s eta 0:00:01\r\u001b[K     |███████████████▎                | 112kB 15.7MB/s eta 0:00:01\r\u001b[K     |████████████████▊               | 122kB 15.7MB/s eta 0:00:01\r\u001b[K     |██████████████████              | 133kB 15.7MB/s eta 0:00:01\r\u001b[K     |███████████████████▌            | 143kB 15.7MB/s eta 0:00:01\r\u001b[K     |████████████████████▉           | 153kB 15.7MB/s eta 0:00:01\r\u001b[K     |██████████████████████▎         | 163kB 15.7MB/s eta 0:00:01\r\u001b[K     |███████████████████████▋        | 174kB 15.7MB/s eta 0:00:01\r\u001b[K     |█████████████████████████       | 184kB 15.7MB/s eta 0:00:01\r\u001b[K     |██████████████████████████▍     | 194kB 15.7MB/s eta 0:00:01\r\u001b[K     |███████████████████████████▉    | 204kB 15.7MB/s eta 0:00:01\r\u001b[K     |█████████████████████████████▏  | 215kB 15.7MB/s eta 0:00:01\r\u001b[K     |██████████████████████████████▋ | 225kB 15.7MB/s eta 0:00:01\r\u001b[K     |████████████████████████████████| 235kB 15.7MB/s eta 0:00:01\r\u001b[K     |████████████████████████████████| 245kB 15.7MB/s \n",
            "\u001b[?25hRequirement already satisfied: setuptools>=41.0.0 in /usr/local/lib/python3.7/dist-packages (from causalml) (57.0.0)\n",
            "Requirement already satisfied: pip>=10.0 in /usr/local/lib/python3.7/dist-packages (from causalml) (19.3.1)\n",
            "Collecting numpy<1.19.0,>=0.16.0\n",
            "\u001b[?25l  Downloading https://files.pythonhosted.org/packages/d6/c6/58e517e8b1fb192725cfa23c01c2e60e4e6699314ee9684a1c5f5c9b27e1/numpy-1.18.5-cp37-cp37m-manylinux1_x86_64.whl (20.1MB)\n",
            "\u001b[K     |████████████████████████████████| 20.1MB 1.3MB/s \n",
            "\u001b[?25hRequirement already satisfied: scipy==1.4.1 in /usr/local/lib/python3.7/dist-packages (from causalml) (1.4.1)\n",
            "Requirement already satisfied: matplotlib in /usr/local/lib/python3.7/dist-packages (from causalml) (3.2.2)\n",
            "Requirement already satisfied: pandas>=0.24.1 in /usr/local/lib/python3.7/dist-packages (from causalml) (1.1.5)\n",
            "Requirement already satisfied: scikit-learn<0.24.0,>=0.22.0 in /usr/local/lib/python3.7/dist-packages (from causalml) (0.22.2.post1)\n",
            "Requirement already satisfied: statsmodels>=0.9.0 in /usr/local/lib/python3.7/dist-packages (from causalml) (0.10.2)\n",
            "Requirement already satisfied: seaborn in /usr/local/lib/python3.7/dist-packages (from causalml) (0.11.1)\n",
            "Requirement already satisfied: Cython>=0.28.0 in /usr/local/lib/python3.7/dist-packages (from causalml) (0.29.23)\n",
            "Requirement already satisfied: xgboost in /usr/local/lib/python3.7/dist-packages (from causalml) (0.90)\n",
            "Requirement already satisfied: pydotplus in /usr/local/lib/python3.7/dist-packages (from causalml) (2.0.2)\n",
            "Requirement already satisfied: tqdm in /usr/local/lib/python3.7/dist-packages (from causalml) (4.41.1)\n",
            "Collecting shap<0.38.1\n",
            "\u001b[?25l  Downloading https://files.pythonhosted.org/packages/85/a3/c0eab9dd6a894165e2cb87504ff5b2710ac5ede3447d9138620b7341b6a2/shap-0.37.0.tar.gz (326kB)\n",
            "\u001b[K     |████████████████████████████████| 327kB 32.3MB/s \n",
            "\u001b[?25hRequirement already satisfied: dill in /usr/local/lib/python3.7/dist-packages (from causalml) (0.3.3)\n",
            "Requirement already satisfied: lightgbm in /usr/local/lib/python3.7/dist-packages (from causalml) (2.2.3)\n",
            "Collecting pygam\n",
            "\u001b[?25l  Downloading https://files.pythonhosted.org/packages/13/be/775033ef08a8945bec6ad7973b161ca909f852442e0d7cfb8d1a214de1ac/pygam-0.8.0-py2.py3-none-any.whl (1.8MB)\n",
            "\u001b[K     |████████████████████████████████| 1.8MB 44.3MB/s \n",
            "\u001b[?25hRequirement already satisfied: packaging in /usr/local/lib/python3.7/dist-packages (from causalml) (20.9)\n",
            "Requirement already satisfied: keras in /usr/local/lib/python3.7/dist-packages (from causalml) (2.4.3)\n",
            "Requirement already satisfied: tensorflow>=1.15.2 in /usr/local/lib/python3.7/dist-packages (from causalml) (2.5.0)\n",
            "Requirement already satisfied: torch in /usr/local/lib/python3.7/dist-packages (from causalml) (1.8.1+cu101)\n",
            "Collecting pyro-ppl\n",
            "\u001b[?25l  Downloading https://files.pythonhosted.org/packages/aa/7a/fbab572fd385154a0c07b0fa138683aa52e14603bb83d37b198e5f9269b1/pyro_ppl-1.6.0-py3-none-any.whl (634kB)\n",
            "\u001b[K     |████████████████████████████████| 634kB 54.0MB/s \n",
            "\u001b[?25hRequirement already satisfied: python-dateutil>=2.1 in /usr/local/lib/python3.7/dist-packages (from matplotlib->causalml) (2.8.1)\n",
            "Requirement already satisfied: pyparsing!=2.0.4,!=2.1.2,!=2.1.6,>=2.0.1 in /usr/local/lib/python3.7/dist-packages (from matplotlib->causalml) (2.4.7)\n",
            "Requirement already satisfied: kiwisolver>=1.0.1 in /usr/local/lib/python3.7/dist-packages (from matplotlib->causalml) (1.3.1)\n",
            "Requirement already satisfied: cycler>=0.10 in /usr/local/lib/python3.7/dist-packages (from matplotlib->causalml) (0.10.0)\n",
            "Requirement already satisfied: pytz>=2017.2 in /usr/local/lib/python3.7/dist-packages (from pandas>=0.24.1->causalml) (2018.9)\n",
            "Requirement already satisfied: joblib>=0.11 in /usr/local/lib/python3.7/dist-packages (from scikit-learn<0.24.0,>=0.22.0->causalml) (1.0.1)\n",
            "Requirement already satisfied: patsy>=0.4.0 in /usr/local/lib/python3.7/dist-packages (from statsmodels>=0.9.0->causalml) (0.5.1)\n",
            "Collecting slicer==0.0.3\n",
            "  Downloading https://files.pythonhosted.org/packages/02/a6/c708c5a0f338e99cfbcb6288b88794525548e4fc1b8457feec2c552a81a4/slicer-0.0.3-py3-none-any.whl\n",
            "Requirement already satisfied: numba in /usr/local/lib/python3.7/dist-packages (from shap<0.38.1->causalml) (0.51.2)\n",
            "Requirement already satisfied: future in /usr/local/lib/python3.7/dist-packages (from pygam->causalml) (0.16.0)\n",
            "Requirement already satisfied: progressbar2 in /usr/local/lib/python3.7/dist-packages (from pygam->causalml) (3.38.0)\n",
            "Requirement already satisfied: pyyaml in /usr/local/lib/python3.7/dist-packages (from keras->causalml) (3.13)\n",
            "Requirement already satisfied: h5py in /usr/local/lib/python3.7/dist-packages (from keras->causalml) (3.1.0)\n",
            "Requirement already satisfied: flatbuffers~=1.12.0 in /usr/local/lib/python3.7/dist-packages (from tensorflow>=1.15.2->causalml) (1.12)\n",
            "Requirement already satisfied: keras-nightly~=2.5.0.dev in /usr/local/lib/python3.7/dist-packages (from tensorflow>=1.15.2->causalml) (2.5.0.dev2021032900)\n",
            "Requirement already satisfied: protobuf>=3.9.2 in /usr/local/lib/python3.7/dist-packages (from tensorflow>=1.15.2->causalml) (3.12.4)\n",
            "Requirement already satisfied: wheel~=0.35 in /usr/local/lib/python3.7/dist-packages (from tensorflow>=1.15.2->causalml) (0.36.2)\n",
            "Requirement already satisfied: tensorflow-estimator<2.6.0,>=2.5.0rc0 in /usr/local/lib/python3.7/dist-packages (from tensorflow>=1.15.2->causalml) (2.5.0)\n",
            "Requirement already satisfied: six~=1.15.0 in /usr/local/lib/python3.7/dist-packages (from tensorflow>=1.15.2->causalml) (1.15.0)\n",
            "Requirement already satisfied: keras-preprocessing~=1.1.2 in /usr/local/lib/python3.7/dist-packages (from tensorflow>=1.15.2->causalml) (1.1.2)\n",
            "Requirement already satisfied: grpcio~=1.34.0 in /usr/local/lib/python3.7/dist-packages (from tensorflow>=1.15.2->causalml) (1.34.1)\n",
            "Requirement already satisfied: google-pasta~=0.2 in /usr/local/lib/python3.7/dist-packages (from tensorflow>=1.15.2->causalml) (0.2.0)\n",
            "Requirement already satisfied: typing-extensions~=3.7.4 in /usr/local/lib/python3.7/dist-packages (from tensorflow>=1.15.2->causalml) (3.7.4.3)\n",
            "Requirement already satisfied: astunparse~=1.6.3 in /usr/local/lib/python3.7/dist-packages (from tensorflow>=1.15.2->causalml) (1.6.3)\n",
            "Requirement already satisfied: wrapt~=1.12.1 in /usr/local/lib/python3.7/dist-packages (from tensorflow>=1.15.2->causalml) (1.12.1)\n",
            "Requirement already satisfied: gast==0.4.0 in /usr/local/lib/python3.7/dist-packages (from tensorflow>=1.15.2->causalml) (0.4.0)\n",
            "Requirement already satisfied: tensorboard~=2.5 in /usr/local/lib/python3.7/dist-packages (from tensorflow>=1.15.2->causalml) (2.5.0)\n",
            "Requirement already satisfied: termcolor~=1.1.0 in /usr/local/lib/python3.7/dist-packages (from tensorflow>=1.15.2->causalml) (1.1.0)\n",
            "Requirement already satisfied: absl-py~=0.10 in /usr/local/lib/python3.7/dist-packages (from tensorflow>=1.15.2->causalml) (0.12.0)\n",
            "Requirement already satisfied: opt-einsum~=3.3.0 in /usr/local/lib/python3.7/dist-packages (from tensorflow>=1.15.2->causalml) (3.3.0)\n",
            "Collecting pyro-api>=0.1.1\n",
            "  Downloading https://files.pythonhosted.org/packages/fc/81/957ae78e6398460a7230b0eb9b8f1cb954c5e913e868e48d89324c68cec7/pyro_api-0.1.2-py3-none-any.whl\n",
            "Requirement already satisfied: llvmlite<0.35,>=0.34.0.dev0 in /usr/local/lib/python3.7/dist-packages (from numba->shap<0.38.1->causalml) (0.34.0)\n",
            "Requirement already satisfied: python-utils>=2.3.0 in /usr/local/lib/python3.7/dist-packages (from progressbar2->pygam->causalml) (2.5.6)\n",
            "Requirement already satisfied: cached-property; python_version < \"3.8\" in /usr/local/lib/python3.7/dist-packages (from h5py->keras->causalml) (1.5.2)\n",
            "Requirement already satisfied: google-auth-oauthlib<0.5,>=0.4.1 in /usr/local/lib/python3.7/dist-packages (from tensorboard~=2.5->tensorflow>=1.15.2->causalml) (0.4.4)\n",
            "Requirement already satisfied: markdown>=2.6.8 in /usr/local/lib/python3.7/dist-packages (from tensorboard~=2.5->tensorflow>=1.15.2->causalml) (3.3.4)\n",
            "Requirement already satisfied: google-auth<2,>=1.6.3 in /usr/local/lib/python3.7/dist-packages (from tensorboard~=2.5->tensorflow>=1.15.2->causalml) (1.30.0)\n",
            "Requirement already satisfied: requests<3,>=2.21.0 in /usr/local/lib/python3.7/dist-packages (from tensorboard~=2.5->tensorflow>=1.15.2->causalml) (2.23.0)\n",
            "Requirement already satisfied: tensorboard-plugin-wit>=1.6.0 in /usr/local/lib/python3.7/dist-packages (from tensorboard~=2.5->tensorflow>=1.15.2->causalml) (1.8.0)\n",
            "Requirement already satisfied: tensorboard-data-server<0.7.0,>=0.6.0 in /usr/local/lib/python3.7/dist-packages (from tensorboard~=2.5->tensorflow>=1.15.2->causalml) (0.6.1)\n",
            "Requirement already satisfied: werkzeug>=0.11.15 in /usr/local/lib/python3.7/dist-packages (from tensorboard~=2.5->tensorflow>=1.15.2->causalml) (1.0.1)\n",
            "Requirement already satisfied: requests-oauthlib>=0.7.0 in /usr/local/lib/python3.7/dist-packages (from google-auth-oauthlib<0.5,>=0.4.1->tensorboard~=2.5->tensorflow>=1.15.2->causalml) (1.3.0)\n",
            "Requirement already satisfied: importlib-metadata; python_version < \"3.8\" in /usr/local/lib/python3.7/dist-packages (from markdown>=2.6.8->tensorboard~=2.5->tensorflow>=1.15.2->causalml) (4.0.1)\n",
            "Requirement already satisfied: cachetools<5.0,>=2.0.0 in /usr/local/lib/python3.7/dist-packages (from google-auth<2,>=1.6.3->tensorboard~=2.5->tensorflow>=1.15.2->causalml) (4.2.2)\n",
            "Requirement already satisfied: pyasn1-modules>=0.2.1 in /usr/local/lib/python3.7/dist-packages (from google-auth<2,>=1.6.3->tensorboard~=2.5->tensorflow>=1.15.2->causalml) (0.2.8)\n",
            "Requirement already satisfied: rsa<5,>=3.1.4; python_version >= \"3.6\" in /usr/local/lib/python3.7/dist-packages (from google-auth<2,>=1.6.3->tensorboard~=2.5->tensorflow>=1.15.2->causalml) (4.7.2)\n",
            "Requirement already satisfied: chardet<4,>=3.0.2 in /usr/local/lib/python3.7/dist-packages (from requests<3,>=2.21.0->tensorboard~=2.5->tensorflow>=1.15.2->causalml) (3.0.4)\n",
            "Requirement already satisfied: idna<3,>=2.5 in /usr/local/lib/python3.7/dist-packages (from requests<3,>=2.21.0->tensorboard~=2.5->tensorflow>=1.15.2->causalml) (2.10)\n",
            "Requirement already satisfied: urllib3!=1.25.0,!=1.25.1,<1.26,>=1.21.1 in /usr/local/lib/python3.7/dist-packages (from requests<3,>=2.21.0->tensorboard~=2.5->tensorflow>=1.15.2->causalml) (1.24.3)\n",
            "Requirement already satisfied: certifi>=2017.4.17 in /usr/local/lib/python3.7/dist-packages (from requests<3,>=2.21.0->tensorboard~=2.5->tensorflow>=1.15.2->causalml) (2020.12.5)\n",
            "Requirement already satisfied: oauthlib>=3.0.0 in /usr/local/lib/python3.7/dist-packages (from requests-oauthlib>=0.7.0->google-auth-oauthlib<0.5,>=0.4.1->tensorboard~=2.5->tensorflow>=1.15.2->causalml) (3.1.0)\n",
            "Requirement already satisfied: zipp>=0.5 in /usr/local/lib/python3.7/dist-packages (from importlib-metadata; python_version < \"3.8\"->markdown>=2.6.8->tensorboard~=2.5->tensorflow>=1.15.2->causalml) (3.4.1)\n",
            "Requirement already satisfied: pyasn1<0.5.0,>=0.4.6 in /usr/local/lib/python3.7/dist-packages (from pyasn1-modules>=0.2.1->google-auth<2,>=1.6.3->tensorboard~=2.5->tensorflow>=1.15.2->causalml) (0.4.8)\n",
            "Building wheels for collected packages: causalml, shap\n",
            "  Building wheel for causalml (setup.py) ... \u001b[?25l\u001b[?25hdone\n",
            "  Created wheel for causalml: filename=causalml-0.10.0-cp37-cp37m-linux_x86_64.whl size=493698 sha256=ed6f9a27c311b152f48a4cd9e4de08ac04ecfccb8adcff12fc9acfcaf6ea3c46\n",
            "  Stored in directory: /root/.cache/pip/wheels/81/7f/44/c9d5ecf03f0d950f53302a5eab1c76bec07bcd5868753e22bf\n",
            "  Building wheel for shap (setup.py) ... \u001b[?25l\u001b[?25hdone\n",
            "  Created wheel for shap: filename=shap-0.37.0-cp37-cp37m-linux_x86_64.whl size=465036 sha256=57636447ae857c8bc4db5a4a64f9daf8c65e3c3d71afd39f5faad5cd4a3b5238\n",
            "  Stored in directory: /root/.cache/pip/wheels/df/ad/b0/aa7815ec68850d66551ef618095eccb962c8f6022f1d3dd989\n",
            "Successfully built causalml shap\n",
            "\u001b[31mERROR: tensorflow 2.5.0 has requirement numpy~=1.19.2, but you'll have numpy 1.18.5 which is incompatible.\u001b[0m\n",
            "\u001b[31mERROR: datascience 0.10.6 has requirement folium==0.2.1, but you'll have folium 0.8.3 which is incompatible.\u001b[0m\n",
            "\u001b[31mERROR: albumentations 0.1.12 has requirement imgaug<0.2.7,>=0.2.5, but you'll have imgaug 0.2.9 which is incompatible.\u001b[0m\n",
            "Installing collected packages: numpy, slicer, shap, pygam, pyro-api, pyro-ppl, causalml\n",
            "  Found existing installation: numpy 1.19.5\n",
            "    Uninstalling numpy-1.19.5:\n",
            "      Successfully uninstalled numpy-1.19.5\n",
            "Successfully installed causalml-0.10.0 numpy-1.18.5 pygam-0.8.0 pyro-api-0.1.2 pyro-ppl-1.6.0 shap-0.37.0 slicer-0.0.3\n"
          ],
          "name": "stdout"
        },
        {
          "output_type": "display_data",
          "data": {
            "application/vnd.colab-display-data+json": {
              "pip_warning": {
                "packages": [
                  "numpy"
                ]
              }
            }
          },
          "metadata": {
            "tags": []
          }
        }
      ]
    },
    {
      "cell_type": "code",
      "metadata": {
        "colab": {
          "base_uri": "https://localhost:8080/"
        },
        "id": "pmyizsvwnLV8",
        "outputId": "6edec9f4-7d90-404b-8067-7de784de08bc"
      },
      "source": [
        "import causalml\n",
        "print(causalml.__version__)"
      ],
      "execution_count": null,
      "outputs": [
        {
          "output_type": "stream",
          "text": [
            "0.10.0\n"
          ],
          "name": "stdout"
        }
      ]
    },
    {
      "cell_type": "code",
      "metadata": {
        "id": "dm1ndDQxnbHq"
      },
      "source": [
        "from causalml.dataset import make_uplift_classification\n",
        "from causalml.inference.tree import UpliftRandomForestClassifier\n",
        "import joblib\n",
        "import numpy as np"
      ],
      "execution_count": null,
      "outputs": []
    },
    {
      "cell_type": "code",
      "metadata": {
        "colab": {
          "base_uri": "https://localhost:8080/",
          "height": 241
        },
        "id": "dl6q0vjknmWn",
        "outputId": "2ca7f7b4-c260-4446-ceb7-c1b9ab9cfa1f"
      },
      "source": [
        "df, x_names = make_uplift_classification()\n",
        "print(df.shape)\n",
        "df.head()"
      ],
      "execution_count": null,
      "outputs": [
        {
          "output_type": "stream",
          "text": [
            "(4000, 22)\n"
          ],
          "name": "stdout"
        },
        {
          "output_type": "execute_result",
          "data": {
            "text/html": [
              "<div>\n",
              "<style scoped>\n",
              "    .dataframe tbody tr th:only-of-type {\n",
              "        vertical-align: middle;\n",
              "    }\n",
              "\n",
              "    .dataframe tbody tr th {\n",
              "        vertical-align: top;\n",
              "    }\n",
              "\n",
              "    .dataframe thead th {\n",
              "        text-align: right;\n",
              "    }\n",
              "</style>\n",
              "<table border=\"1\" class=\"dataframe\">\n",
              "  <thead>\n",
              "    <tr style=\"text-align: right;\">\n",
              "      <th></th>\n",
              "      <th>treatment_group_key</th>\n",
              "      <th>x1_informative</th>\n",
              "      <th>x2_informative</th>\n",
              "      <th>x3_informative</th>\n",
              "      <th>x4_informative</th>\n",
              "      <th>x5_informative</th>\n",
              "      <th>x6_irrelevant</th>\n",
              "      <th>x7_irrelevant</th>\n",
              "      <th>x8_irrelevant</th>\n",
              "      <th>x9_irrelevant</th>\n",
              "      <th>x10_irrelevant</th>\n",
              "      <th>x11_uplift_increase</th>\n",
              "      <th>x12_uplift_increase</th>\n",
              "      <th>x13_increase_mix</th>\n",
              "      <th>x14_uplift_increase</th>\n",
              "      <th>x15_uplift_increase</th>\n",
              "      <th>x16_increase_mix</th>\n",
              "      <th>x17_uplift_increase</th>\n",
              "      <th>x18_uplift_increase</th>\n",
              "      <th>x19_increase_mix</th>\n",
              "      <th>conversion</th>\n",
              "      <th>treatment_effect</th>\n",
              "    </tr>\n",
              "  </thead>\n",
              "  <tbody>\n",
              "    <tr>\n",
              "      <th>0</th>\n",
              "      <td>control</td>\n",
              "      <td>-0.542888</td>\n",
              "      <td>1.976361</td>\n",
              "      <td>-0.531359</td>\n",
              "      <td>-2.354211</td>\n",
              "      <td>-0.380629</td>\n",
              "      <td>-2.614321</td>\n",
              "      <td>-0.128893</td>\n",
              "      <td>0.448689</td>\n",
              "      <td>-2.275192</td>\n",
              "      <td>-0.934969</td>\n",
              "      <td>0.656869</td>\n",
              "      <td>-1.315304</td>\n",
              "      <td>0.742654</td>\n",
              "      <td>1.891699</td>\n",
              "      <td>-2.428395</td>\n",
              "      <td>1.541875</td>\n",
              "      <td>-0.817705</td>\n",
              "      <td>-0.610194</td>\n",
              "      <td>-0.591581</td>\n",
              "      <td>0</td>\n",
              "      <td>0</td>\n",
              "    </tr>\n",
              "    <tr>\n",
              "      <th>1</th>\n",
              "      <td>treatment3</td>\n",
              "      <td>0.258654</td>\n",
              "      <td>0.552412</td>\n",
              "      <td>1.434239</td>\n",
              "      <td>-1.422311</td>\n",
              "      <td>0.089131</td>\n",
              "      <td>0.790293</td>\n",
              "      <td>1.159513</td>\n",
              "      <td>1.578868</td>\n",
              "      <td>0.166540</td>\n",
              "      <td>-0.356051</td>\n",
              "      <td>1.050526</td>\n",
              "      <td>-1.391878</td>\n",
              "      <td>-0.623243</td>\n",
              "      <td>2.443972</td>\n",
              "      <td>-2.889253</td>\n",
              "      <td>2.018585</td>\n",
              "      <td>-1.109296</td>\n",
              "      <td>-0.380362</td>\n",
              "      <td>-1.667606</td>\n",
              "      <td>0</td>\n",
              "      <td>0</td>\n",
              "    </tr>\n",
              "    <tr>\n",
              "      <th>2</th>\n",
              "      <td>treatment1</td>\n",
              "      <td>1.697012</td>\n",
              "      <td>-2.762600</td>\n",
              "      <td>-0.662874</td>\n",
              "      <td>-1.682340</td>\n",
              "      <td>1.217443</td>\n",
              "      <td>0.837982</td>\n",
              "      <td>1.042981</td>\n",
              "      <td>0.177398</td>\n",
              "      <td>-0.112409</td>\n",
              "      <td>1.374859</td>\n",
              "      <td>1.072329</td>\n",
              "      <td>-1.132497</td>\n",
              "      <td>1.050179</td>\n",
              "      <td>1.573054</td>\n",
              "      <td>-1.788427</td>\n",
              "      <td>1.341609</td>\n",
              "      <td>-0.749227</td>\n",
              "      <td>-2.091521</td>\n",
              "      <td>-0.471386</td>\n",
              "      <td>0</td>\n",
              "      <td>0</td>\n",
              "    </tr>\n",
              "    <tr>\n",
              "      <th>3</th>\n",
              "      <td>treatment2</td>\n",
              "      <td>-1.441644</td>\n",
              "      <td>1.823648</td>\n",
              "      <td>0.789423</td>\n",
              "      <td>-0.295398</td>\n",
              "      <td>0.718509</td>\n",
              "      <td>-0.492993</td>\n",
              "      <td>0.947824</td>\n",
              "      <td>-1.307887</td>\n",
              "      <td>0.123340</td>\n",
              "      <td>-1.957101</td>\n",
              "      <td>1.398966</td>\n",
              "      <td>-2.084619</td>\n",
              "      <td>0.058481</td>\n",
              "      <td>1.369439</td>\n",
              "      <td>0.422538</td>\n",
              "      <td>1.087176</td>\n",
              "      <td>-0.966666</td>\n",
              "      <td>-1.785592</td>\n",
              "      <td>-1.268379</td>\n",
              "      <td>1</td>\n",
              "      <td>1</td>\n",
              "    </tr>\n",
              "    <tr>\n",
              "      <th>4</th>\n",
              "      <td>control</td>\n",
              "      <td>-0.625074</td>\n",
              "      <td>3.002388</td>\n",
              "      <td>-0.096288</td>\n",
              "      <td>1.938235</td>\n",
              "      <td>3.392424</td>\n",
              "      <td>-0.465860</td>\n",
              "      <td>-0.919897</td>\n",
              "      <td>-1.072592</td>\n",
              "      <td>-1.331181</td>\n",
              "      <td>-0.824105</td>\n",
              "      <td>1.398327</td>\n",
              "      <td>-1.403984</td>\n",
              "      <td>0.760430</td>\n",
              "      <td>1.917635</td>\n",
              "      <td>-2.347675</td>\n",
              "      <td>1.560946</td>\n",
              "      <td>-0.833067</td>\n",
              "      <td>-1.407884</td>\n",
              "      <td>-0.781343</td>\n",
              "      <td>0</td>\n",
              "      <td>0</td>\n",
              "    </tr>\n",
              "  </tbody>\n",
              "</table>\n",
              "</div>"
            ],
            "text/plain": [
              "  treatment_group_key  x1_informative  ...  conversion  treatment_effect\n",
              "0             control       -0.542888  ...           0                 0\n",
              "1          treatment3        0.258654  ...           0                 0\n",
              "2          treatment1        1.697012  ...           0                 0\n",
              "3          treatment2       -1.441644  ...           1                 1\n",
              "4             control       -0.625074  ...           0                 0\n",
              "\n",
              "[5 rows x 22 columns]"
            ]
          },
          "metadata": {
            "tags": []
          },
          "execution_count": 4
        }
      ]
    },
    {
      "cell_type": "code",
      "metadata": {
        "id": "eE-kqruAnqE3"
      },
      "source": [
        "uplift_model = UpliftRandomForestClassifier(control_name='control')\n",
        "uplift_model.fit(df[x_names].values,\n",
        "                 treatment=df['treatment_group_key'].values,\n",
        "                 y=df['conversion'].values)\n",
        "p = uplift_model.predict(df[x_names].values)"
      ],
      "execution_count": null,
      "outputs": []
    },
    {
      "cell_type": "code",
      "metadata": {
        "id": "dPVMK2maoAOM"
      },
      "source": [
        "joblib.dump(uplift_model, 'uplift_model.joblib')\n",
        "del uplift_model"
      ],
      "execution_count": null,
      "outputs": []
    },
    {
      "cell_type": "code",
      "metadata": {
        "id": "orK0laXXoXFy"
      },
      "source": [
        "uplift_model = joblib.load('uplift_model.joblib')\n",
        "p2 = uplift_model.predict(df[x_names].values)"
      ],
      "execution_count": null,
      "outputs": []
    },
    {
      "cell_type": "code",
      "metadata": {
        "id": "wQyrha9toZ6K"
      },
      "source": [
        "np.testing.assert_allclose(p, p2)"
      ],
      "execution_count": null,
      "outputs": []
    },
    {
      "cell_type": "code",
      "metadata": {
        "id": "5JMilxc0odR7"
      },
      "source": [
        ""
      ],
      "execution_count": null,
      "outputs": []
    }
  ]
}